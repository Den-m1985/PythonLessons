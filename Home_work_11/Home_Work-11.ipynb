{
 "cells": [
  {
   "cell_type": "markdown",
   "id": "514402ca",
   "metadata": {},
   "source": [
    "f(x) = -12x^4*sin(cos(x)) - 18x^3+5x^2 + 10x - 30\n",
    "\n",
    "Определить корни\n",
    "\n",
    "Найти интервалы, на которых функция возрастает\n",
    "\n",
    "Найти интервалы, на которых функция убывает\n",
    "\n",
    "Построить график\n",
    "\n",
    "Вычислить вершину\n",
    "\n",
    "Определить промежутки, на котором f > 0\n",
    "\n",
    "Определить промежутки, на котором f < 0"
   ]
  },
  {
   "cell_type": "code",
   "execution_count": 3,
   "id": "9264f7b2",
   "metadata": {},
   "outputs": [],
   "source": [
    "import sympy"
   ]
  },
  {
   "cell_type": "code",
   "execution_count": 4,
   "id": "1f7ea836",
   "metadata": {},
   "outputs": [],
   "source": [
    "from sympy.plotting import plot"
   ]
  },
  {
   "cell_type": "code",
   "execution_count": 5,
   "id": "a1638401",
   "metadata": {},
   "outputs": [],
   "source": [
    "x = sympy.Symbol(\"x\")"
   ]
  },
  {
   "cell_type": "code",
   "execution_count": 26,
   "id": "91ca2100",
   "metadata": {},
   "outputs": [
    {
     "data": {
      "text/latex": [
       "$\\displaystyle - 12 x^{4} \\sin{\\left(\\cos{\\left(x \\right)} \\right)} - 18 x^{3} + 5 x^{2} + 10 x - 30$"
      ],
      "text/plain": [
       "-12*x**4*sin(cos(x)) - 18*x**3 + 5*x**2 + 10*x - 30"
      ]
     },
     "execution_count": 26,
     "metadata": {},
     "output_type": "execute_result"
    }
   ],
   "source": [
    "f = -12*x**4*sympy.sin(sympy.cos(x)) - 18*x**3+5*x**2 + 10*x - 30\n",
    "f"
   ]
  },
  {
   "cell_type": "markdown",
   "id": "4b2f49e4",
   "metadata": {},
   "source": [
    "Находим корни уравнения по переменной Х"
   ]
  },
  {
   "cell_type": "code",
   "execution_count": 27,
   "id": "2fc7827d",
   "metadata": {},
   "outputs": [
    {
     "data": {
      "text/plain": [
       "[]"
      ]
     },
     "execution_count": 27,
     "metadata": {},
     "output_type": "execute_result"
    }
   ],
   "source": [
    "#sympy.solve(f, -1)"
   ]
  },
  {
   "cell_type": "markdown",
   "id": "1502cb8b",
   "metadata": {},
   "source": [
    "показываем в виде числа"
   ]
  },
  {
   "cell_type": "code",
   "execution_count": 6,
   "id": "a1e73b99",
   "metadata": {},
   "outputs": [],
   "source": [
    "#print([root.evalf() for root in sympy.solve(f, x)])"
   ]
  },
  {
   "cell_type": "code",
   "execution_count": 17,
   "id": "4cbabb86",
   "metadata": {},
   "outputs": [],
   "source": [
    "def calculate_subs_down(a,b,d=1):\n",
    "    for _ in range (30):\n",
    "        a *= 10\n",
    "        b *= 10\n",
    "        d *= 10\n",
    "        for i in range (a,b):\n",
    "            param = i / d\n",
    "            if f.subs(x, param) < 0:\n",
    "                a = i - 1\n",
    "                b = i + 1\n",
    "                break\n",
    "    number = (a/d + b/d) / 2\n",
    "    return number"
   ]
  },
  {
   "cell_type": "code",
   "execution_count": 15,
   "id": "793e129f",
   "metadata": {},
   "outputs": [],
   "source": [
    "def calculate_subs_up(a,b,d=1):\n",
    "    for _ in range (30):\n",
    "        a *= 10\n",
    "        b *= 10\n",
    "        d *= 10\n",
    "        for i in range (a,b):\n",
    "            param = i / d\n",
    "            if f.subs(x, param) > 0:\n",
    "                a = i - 1\n",
    "                b = i + 1\n",
    "                break\n",
    "    number = (a/d + b/d) / 2\n",
    "    return number"
   ]
  },
  {
   "attachments": {},
   "cell_type": "markdown",
   "id": "90dc410c",
   "metadata": {},
   "source": [
    "Находим координату и решаем уравнение первого пересечения с осью х"
   ]
  },
  {
   "cell_type": "code",
   "execution_count": 18,
   "id": "1eb756b7",
   "metadata": {},
   "outputs": [
    {
     "name": "stdout",
     "output_type": "stream",
     "text": [
      "-7.650622285132755\n"
     ]
    },
    {
     "data": {
      "text/latex": [
       "$\\displaystyle -1.45519152283669 \\cdot 10^{-11}$"
      ],
      "text/plain": [
       "-1.45519152283669e-11"
      ]
     },
     "execution_count": 18,
     "metadata": {},
     "output_type": "execute_result"
    }
   ],
   "source": [
    "coordinata_x = calculate_subs_down(-10,-6)\n",
    "print(coordinata_x)\n",
    "f.subs(x, coordinata_x)"
   ]
  },
  {
   "attachments": {},
   "cell_type": "markdown",
   "id": "cda2f9ba",
   "metadata": {},
   "source": [
    "Находим координату и решаем уравнение второго пересечения с осью х"
   ]
  },
  {
   "cell_type": "code",
   "execution_count": 16,
   "id": "d5d1f483",
   "metadata": {},
   "outputs": [
    {
     "name": "stdout",
     "output_type": "stream",
     "text": [
      "-5.026865928206211\n"
     ]
    },
    {
     "data": {
      "text/latex": [
       "$\\displaystyle 5.45696821063757 \\cdot 10^{-12}$"
      ],
      "text/plain": [
       "5.45696821063757e-12"
      ]
     },
     "execution_count": 16,
     "metadata": {},
     "output_type": "execute_result"
    }
   ],
   "source": [
    "coordinata_x = calculate_subs_up(-6,-4)\n",
    "print(coordinata_x)\n",
    "f.subs(x, coordinata_x)"
   ]
  },
  {
   "attachments": {},
   "cell_type": "markdown",
   "id": "e1d7706b",
   "metadata": {},
   "source": [
    "Находим координату и решаем уравнение третьего пересечения с осью х"
   ]
  },
  {
   "cell_type": "code",
   "execution_count": 19,
   "id": "58609181",
   "metadata": {},
   "outputs": [
    {
     "name": "stdout",
     "output_type": "stream",
     "text": [
      "-1.3389666392771082\n"
     ]
    },
    {
     "data": {
      "text/latex": [
       "$\\displaystyle -1.06581410364015 \\cdot 10^{-14}$"
      ],
      "text/plain": [
       "-1.06581410364015e-14"
      ]
     },
     "execution_count": 19,
     "metadata": {},
     "output_type": "execute_result"
    }
   ],
   "source": [
    "coordinata_x = calculate_subs_down(-2,0)\n",
    "print(coordinata_x)\n",
    "f.subs(x, coordinata_x)"
   ]
  },
  {
   "attachments": {},
   "cell_type": "markdown",
   "id": "0f8a5506",
   "metadata": {},
   "source": [
    "Находим координату и решаем уравнение четвертого пересечения с осью х"
   ]
  },
  {
   "cell_type": "code",
   "execution_count": 30,
   "id": "725be9d5",
   "metadata": {},
   "outputs": [
    {
     "name": "stdout",
     "output_type": "stream",
     "text": [
      "2.2730568457562486\n"
     ]
    },
    {
     "data": {
      "text/latex": [
       "$\\displaystyle 8.5265128291212 \\cdot 10^{-14}$"
      ],
      "text/plain": [
       "8.52651282912120e-14"
      ]
     },
     "execution_count": 30,
     "metadata": {},
     "output_type": "execute_result"
    }
   ],
   "source": [
    "coordinata_x = calculate_subs_up(1,3)\n",
    "print(coordinata_x)\n",
    "f.subs(x, coordinata_x)"
   ]
  },
  {
   "cell_type": "code",
   "execution_count": 10,
   "id": "8c7745f2",
   "metadata": {},
   "outputs": [
    {
     "data": {
      "image/png": "[encoded data removed]",
      "text/plain": [
       "<Figure size 640x480 with 1 Axes>"
      ]
     },
     "metadata": {},
     "output_type": "display_data"
    },
    {
     "data": {
      "text/plain": [
       "<sympy.plotting.plot.Plot at 0x9f6c6d0>"
      ]
     },
     "execution_count": 10,
     "metadata": {},
     "output_type": "execute_result"
    }
   ],
   "source": [
    "#plot(f, (x,-20,20), title = \"f(x) = -12x^4*sin(cos(x)) - 18x^3+5x^2 + 10x - 30\")\n",
    "plot(f, title = \"f(x) = -12x^4*sin(cos(x)) - 18x^3+5x^2 + 10x - 30\")"
   ]
  },
  {
   "attachments": {},
   "cell_type": "markdown",
   "id": "c38f2130",
   "metadata": {},
   "source": [
    "Ограничиваем график по y"
   ]
  },
  {
   "cell_type": "code",
   "execution_count": 11,
   "id": "2e8927f8",
   "metadata": {
    "scrolled": true
   },
   "outputs": [
    {
     "data": {
      "image/png": "[encoded data removed]",
      "text/plain": [
       "<Figure size 640x480 with 1 Axes>"
      ]
     },
     "metadata": {},
     "output_type": "display_data"
    },
    {
     "data": {
      "text/plain": [
       "<sympy.plotting.plot.Plot at 0x104773d0>"
      ]
     },
     "execution_count": 11,
     "metadata": {},
     "output_type": "execute_result"
    }
   ],
   "source": [
    "plot(f, ylim=(-35, 35))"
   ]
  },
  {
   "cell_type": "markdown",
   "id": "2ac7907d",
   "metadata": {},
   "source": [
    "Находим производную функции по переменной Х, если производня выше 0 функция возрастает"
   ]
  },
  {
   "cell_type": "code",
   "execution_count": 12,
   "id": "f13b88a2",
   "metadata": {
    "scrolled": true
   },
   "outputs": [
    {
     "data": {
      "text/latex": [
       "$\\displaystyle 12 x^{4} \\sin{\\left(x \\right)} \\cos{\\left(\\cos{\\left(x \\right)} \\right)} - 48 x^{3} \\sin{\\left(\\cos{\\left(x \\right)} \\right)} - 54 x^{2} + 10 x + 10$"
      ],
      "text/plain": [
       "12*x**4*sin(x)*cos(cos(x)) - 48*x**3*sin(cos(x)) - 54*x**2 + 10*x + 10"
      ]
     },
     "execution_count": 12,
     "metadata": {},
     "output_type": "execute_result"
    }
   ],
   "source": [
    "f.diff(x)"
   ]
  },
  {
   "cell_type": "markdown",
   "id": "321a249d",
   "metadata": {},
   "source": [
    "Находим экстремум, точку перегиба по оси Х."
   ]
  },
  {
   "cell_type": "code",
   "execution_count": 29,
   "id": "a58911a7",
   "metadata": {},
   "outputs": [],
   "source": [
    "#sympy.solve(f.diff(x))\n"
   ]
  },
  {
   "cell_type": "markdown",
   "id": "88f7e24e",
   "metadata": {},
   "source": [
    "Подставляем значения и проверяем правильность вычисления. Должно равнятся 0 (по оси У)."
   ]
  },
  {
   "cell_type": "code",
   "execution_count": 14,
   "id": "ed003860",
   "metadata": {},
   "outputs": [
    {
     "data": {
      "text/latex": [
       "$\\displaystyle -54 - 12 \\sin{\\left(1 \\right)} \\cos{\\left(\\cos{\\left(1 \\right)} \\right)} + 48 \\sin{\\left(\\cos{\\left(1 \\right)} \\right)}$"
      ],
      "text/plain": [
       "-54 - 12*sin(1)*cos(cos(1)) + 48*sin(cos(1))"
      ]
     },
     "execution_count": 14,
     "metadata": {},
     "output_type": "execute_result"
    }
   ],
   "source": [
    "f.diff(x).subs(x, -1)"
   ]
  }
 ],
 "metadata": {
  "kernelspec": {
   "display_name": "Python 3 (ipykernel)",
   "language": "python",
   "name": "python3"
  },
  "language_info": {
   "codemirror_mode": {
    "name": "ipython",
    "version": 3
   },
   "file_extension": ".py",
   "mimetype": "text/x-python",
   "name": "python",
   "nbconvert_exporter": "python",
   "pygments_lexer": "ipython3",
   "version": "3.10.7"
  },
  "vscode": {
   "interpreter": {
    "hash": "ccfea65839ea7b4cb7611917847ae955f8a5d3f7496a05c88f3bf628abe673bf"
   }
  }
 },
 "nbformat": 4,
 "nbformat_minor": 5
}
