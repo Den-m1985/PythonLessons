{
 "cells": [
  {
   "cell_type": "markdown",
   "id": "180c3bad",
   "metadata": {},
   "source": [
    "К аналитику обратился риэлтор c задачей выставить ценник для продажи объектов недвижимости площадью 48м2 и 54м2. В ходе работы над задачей аналитик выяснил, что:\n",
    "объект 31м2 стоит $19310\n",
    "объект 51м2 стоит $52150\n",
    "объект 61м2 стоит $74570\n",
    "Вопрос: что. сказать риелтору?"
   ]
  },
  {
   "cell_type": "code",
   "execution_count": 1,
   "id": "1b4349b0",
   "metadata": {},
   "outputs": [
    {
     "data": {
      "text/plain": [
       "622.9032258064516"
      ]
     },
     "execution_count": 1,
     "metadata": {},
     "output_type": "execute_result"
    }
   ],
   "source": [
    "19310 / 31"
   ]
  },
  {
   "cell_type": "code",
   "execution_count": 2,
   "id": "aa298879",
   "metadata": {},
   "outputs": [
    {
     "data": {
      "text/plain": [
       "1022.5490196078431"
      ]
     },
     "execution_count": 2,
     "metadata": {},
     "output_type": "execute_result"
    }
   ],
   "source": [
    "52150 / 51"
   ]
  },
  {
   "cell_type": "code",
   "execution_count": 3,
   "id": "35a9dac5",
   "metadata": {},
   "outputs": [
    {
     "data": {
      "text/plain": [
       "1222.4590163934427"
      ]
     },
     "execution_count": 3,
     "metadata": {},
     "output_type": "execute_result"
    }
   ],
   "source": [
    "74570 / 61"
   ]
  },
  {
   "cell_type": "code",
   "execution_count": 42,
   "id": "6bdabc5a",
   "metadata": {},
   "outputs": [],
   "source": [
    "import matplotlib.pyplot as plt\n",
    "from sympy import *\n",
    "from sympy.abc import x, y, z\n",
    "\n",
    "a = sympy.Symbol('a')\n",
    "b = sympy.Symbol('b')\n",
    "c = sympy.Symbol('c')"
   ]
  },
  {
   "cell_type": "code",
   "execution_count": null,
   "id": "e32506fb",
   "metadata": {},
   "outputs": [],
   "source": []
  },
  {
   "cell_type": "code",
   "execution_count": 57,
   "id": "d0883300",
   "metadata": {
    "scrolled": true
   },
   "outputs": [
    {
     "data": {
      "image/png": "[encoded data removed]",
      "text/plain": [
       "<Figure size 640x480 with 1 Axes>"
      ]
     },
     "metadata": {},
     "output_type": "display_data"
    }
   ],
   "source": [
    "p = plt.plot([0, 31, 48, 51, 54, 61], [0, 19310, 46204, 52150, 58456, 74570], 'b-')\n",
    "p = plt.plot([0, 31, 48, 51, 54, 61], [0, 19310, 46204, 52150, 58456, 74570], 'ro')\n",
    "p = plt.plot([48, 48], [0, 100000])\n",
    "p = plt.plot([54, 54], [0, 100000])\n",
    "p = plt.plot([0, 70], [47500, 47500])\n",
    "p = plt.plot([0, 70], [58500, 58500])\n",
    "p = plt.plot([48], [46204])"
   ]
  },
  {
   "cell_type": "code",
   "execution_count": null,
   "id": "2a0eb0fa",
   "metadata": {},
   "outputs": [],
   "source": []
  },
  {
   "cell_type": "code",
   "execution_count": 48,
   "id": "708d27e5",
   "metadata": {},
   "outputs": [
    {
     "data": {
      "text/plain": [
       "[]"
      ]
     },
     "execution_count": 48,
     "metadata": {},
     "output_type": "execute_result"
    }
   ],
   "source": [
    "f1= -19310 + 31**2 * a + 31 * b + c\n",
    "f2= -52150 + 51**2 * a + 51 * b + c\n",
    "f3= -74570 + 61**2 * a + 61 * b + c\n",
    "solve([-19310 + 31 * a**2 + 31 * b + c, -52150 + 51 * a**2 + 51 * b + c, -74570 + 61 * a**2 + 61 * b + c], [a, b, c], dict=True)"
   ]
  },
  {
   "cell_type": "code",
   "execution_count": null,
   "id": "b50c38b0",
   "metadata": {},
   "outputs": [],
   "source": []
  },
  {
   "cell_type": "code",
   "execution_count": 50,
   "id": "2cee17c4",
   "metadata": {},
   "outputs": [
    {
     "data": {
      "text/plain": [
       "{a: 20, b: 2, c: 28}"
      ]
     },
     "execution_count": 50,
     "metadata": {},
     "output_type": "execute_result"
    }
   ],
   "source": [
    "solve([f1, f2, f3], (a,b,c))"
   ]
  },
  {
   "cell_type": "code",
   "execution_count": 51,
   "id": "65c6b3a7",
   "metadata": {},
   "outputs": [],
   "source": [
    "f4 = 20 * x**2 + 2 * x + 28"
   ]
  },
  {
   "cell_type": "code",
   "execution_count": 52,
   "id": "ee58f012",
   "metadata": {},
   "outputs": [
    {
     "data": {
      "text/latex": [
       "$\\displaystyle 46204$"
      ],
      "text/plain": [
       "46204"
      ]
     },
     "execution_count": 52,
     "metadata": {},
     "output_type": "execute_result"
    }
   ],
   "source": [
    "f4.subs(x, 48)"
   ]
  },
  {
   "cell_type": "code",
   "execution_count": 53,
   "id": "318ecd8f",
   "metadata": {},
   "outputs": [
    {
     "data": {
      "text/latex": [
       "$\\displaystyle 58456$"
      ],
      "text/plain": [
       "58456"
      ]
     },
     "execution_count": 53,
     "metadata": {},
     "output_type": "execute_result"
    }
   ],
   "source": [
    "f4.subs(x, 54)"
   ]
  },
  {
   "cell_type": "code",
   "execution_count": null,
   "id": "bbf49bbb",
   "metadata": {},
   "outputs": [],
   "source": []
  },
  {
   "cell_type": "code",
   "execution_count": null,
   "id": "08695ab8",
   "metadata": {},
   "outputs": [],
   "source": []
  },
  {
   "cell_type": "code",
   "execution_count": null,
   "id": "47fb4082",
   "metadata": {},
   "outputs": [],
   "source": []
  },
  {
   "cell_type": "code",
   "execution_count": null,
   "id": "1ba68e5d",
   "metadata": {},
   "outputs": [],
   "source": []
  }
 ],
 "metadata": {
  "kernelspec": {
   "display_name": "Python 3 (ipykernel)",
   "language": "python",
   "name": "python3"
  },
  "language_info": {
   "codemirror_mode": {
    "name": "ipython",
    "version": 3
   },
   "file_extension": ".py",
   "mimetype": "text/x-python",
   "name": "python",
   "nbconvert_exporter": "python",
   "pygments_lexer": "ipython3",
   "version": "3.9.13"
  }
 },
 "nbformat": 4,
 "nbformat_minor": 5
}
