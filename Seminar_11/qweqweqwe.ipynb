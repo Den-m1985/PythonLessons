{
 "cells": [
  {
   "cell_type": "markdown",
   "id": "514402ca",
   "metadata": {},
   "source": [
    "Ниже написана функция."
   ]
  },
  {
   "cell_type": "code",
   "execution_count": 1,
   "id": "0fa57e7a",
   "metadata": {},
   "outputs": [
    {
     "name": "stdout",
     "output_type": "stream",
     "text": [
      "8\n"
     ]
    }
   ],
   "source": [
    "def f(a, b):\n",
    "    return a + b\n",
    "\n",
    "print(f(3, 5))"
   ]
  },
  {
   "cell_type": "code",
   "execution_count": 2,
   "id": "9264f7b2",
   "metadata": {},
   "outputs": [],
   "source": [
    "import sympy"
   ]
  },
  {
   "cell_type": "code",
   "execution_count": 3,
   "id": "a1638401",
   "metadata": {},
   "outputs": [],
   "source": [
    "x = sympy.Symbol(\"x\")"
   ]
  },
  {
   "cell_type": "code",
   "execution_count": 4,
   "id": "082d5f4d",
   "metadata": {},
   "outputs": [],
   "source": [
    "f = 5 * x * 6 + 5 * x * 9 + 7 - 8+x*x+7+x"
   ]
  },
  {
   "cell_type": "code",
   "execution_count": 5,
   "id": "b045776c",
   "metadata": {},
   "outputs": [
    {
     "name": "stdout",
     "output_type": "stream",
     "text": [
      "x**2 + 76*x + 6\n"
     ]
    }
   ],
   "source": [
    "print(f)"
   ]
  },
  {
   "cell_type": "code",
   "execution_count": 6,
   "id": "c352a04f",
   "metadata": {},
   "outputs": [
    {
     "name": "stdout",
     "output_type": "stream",
     "text": [
      "[-38 - sqrt(1438), -38 + sqrt(1438)]\n"
     ]
    }
   ],
   "source": [
    "print(sympy.solve(f, x))"
   ]
  },
  {
   "cell_type": "code",
   "execution_count": 7,
   "id": "b92f1408",
   "metadata": {},
   "outputs": [
    {
     "name": "stdout",
     "output_type": "stream",
     "text": [
      "[-75.9209704517171, -0.0790295482829184]\n"
     ]
    }
   ],
   "source": [
    "print([root.evalf() for root in sympy.solve(f, x)])"
   ]
  },
  {
   "cell_type": "code",
   "execution_count": null,
   "id": "59fc9acc",
   "metadata": {},
   "outputs": [],
   "source": []
  },
  {
   "cell_type": "code",
   "execution_count": 8,
   "id": "91ca2100",
   "metadata": {},
   "outputs": [],
   "source": [
    "f1 = 2*x**2 + 5*x + 2"
   ]
  },
  {
   "cell_type": "code",
   "execution_count": null,
   "id": "c1a975a5",
   "metadata": {},
   "outputs": [],
   "source": []
  },
  {
   "cell_type": "code",
   "execution_count": 9,
   "id": "e8534532",
   "metadata": {},
   "outputs": [
    {
     "name": "stdout",
     "output_type": "stream",
     "text": [
      "[-2, -1/2]\n"
     ]
    }
   ],
   "source": [
    "print(sympy.solve(f1, x))"
   ]
  },
  {
   "cell_type": "code",
   "execution_count": 10,
   "id": "fb48e769",
   "metadata": {},
   "outputs": [
    {
     "name": "stdout",
     "output_type": "stream",
     "text": [
      "[-38 - sqrt(1438), -38 + sqrt(1438)]\n"
     ]
    }
   ],
   "source": [
    "print(sympy.solve(f, x))"
   ]
  },
  {
   "cell_type": "code",
   "execution_count": 11,
   "id": "a1e73b99",
   "metadata": {},
   "outputs": [
    {
     "name": "stdout",
     "output_type": "stream",
     "text": [
      "[-2.00000000000000, -0.500000000000000]\n"
     ]
    }
   ],
   "source": [
    "print([root.evalf() for root in sympy.solve(f1, x)])"
   ]
  },
  {
   "cell_type": "code",
   "execution_count": 12,
   "id": "cc564c51",
   "metadata": {},
   "outputs": [
    {
     "data": {
      "text/latex": [
       "$\\displaystyle 2 x^{2} + 5 x + 2$"
      ],
      "text/plain": [
       "2*x**2 + 5*x + 2"
      ]
     },
     "execution_count": 12,
     "metadata": {},
     "output_type": "execute_result"
    }
   ],
   "source": [
    "f1"
   ]
  },
  {
   "cell_type": "code",
   "execution_count": 13,
   "id": "b6976728",
   "metadata": {},
   "outputs": [
    {
     "data": {
      "text/latex": [
       "$\\displaystyle 77$"
      ],
      "text/plain": [
       "77"
      ]
     },
     "execution_count": 13,
     "metadata": {},
     "output_type": "execute_result"
    }
   ],
   "source": [
    "f1.subs(x, 5)"
   ]
  },
  {
   "cell_type": "code",
   "execution_count": null,
   "id": "75322e5a",
   "metadata": {},
   "outputs": [],
   "source": []
  },
  {
   "cell_type": "code",
   "execution_count": 14,
   "id": "c138f34f",
   "metadata": {},
   "outputs": [
    {
     "data": {
      "text/latex": [
       "$\\displaystyle 4 x + 5$"
      ],
      "text/plain": [
       "4*x + 5"
      ]
     },
     "execution_count": 14,
     "metadata": {},
     "output_type": "execute_result"
    }
   ],
   "source": [
    "f1.diff(x)"
   ]
  },
  {
   "cell_type": "code",
   "execution_count": null,
   "id": "59735cc0",
   "metadata": {},
   "outputs": [],
   "source": []
  },
  {
   "cell_type": "markdown",
   "id": "2ef6f695",
   "metadata": {},
   "source": [
    "Дана функция f(x) = 5x^2 + 10x - 30\n",
    "\n",
    "1. Определить корни\n",
    "\n",
    "2. Найти интервалы, на которых функция возрастает\n",
    "\n",
    "3. Найти интервалы, на которых функция убывает\n",
    "\n",
    "4. Построить график\n",
    "\n",
    "5. Вычислить вершину\n",
    "\n",
    "6. Определить промежутки, на котором f > 0\n",
    "\n",
    "7. Определить промежутки, на котором f < 0\n"
   ]
  },
  {
   "cell_type": "code",
   "execution_count": null,
   "id": "3838f93f",
   "metadata": {},
   "outputs": [],
   "source": []
  },
  {
   "cell_type": "code",
   "execution_count": 15,
   "id": "2c46e8b4",
   "metadata": {},
   "outputs": [],
   "source": [
    "from sympy.plotting import plot"
   ]
  },
  {
   "cell_type": "code",
   "execution_count": 16,
   "id": "8c7745f2",
   "metadata": {},
   "outputs": [
    {
     "name": "stderr",
     "output_type": "stream",
     "text": [
      "Matplotlib is building the font cache; this may take a moment.\n"
     ]
    },
    {
     "data": {
      "image/png": "[encoded data removed]",
      "text/plain": [
       "<Figure size 640x480 with 1 Axes>"
      ]
     },
     "metadata": {},
     "output_type": "display_data"
    },
    {
     "data": {
      "text/plain": [
       "<sympy.plotting.plot.Plot at 0x21b6b94d360>"
      ]
     },
     "execution_count": 16,
     "metadata": {},
     "output_type": "execute_result"
    }
   ],
   "source": [
    "plot(f1)"
   ]
  },
  {
   "cell_type": "code",
   "execution_count": 17,
   "id": "6b8769a9",
   "metadata": {},
   "outputs": [
    {
     "data": {
      "image/png": "[encoded data removed]",
      "text/plain": [
       "<Figure size 640x480 with 1 Axes>"
      ]
     },
     "metadata": {},
     "output_type": "display_data"
    },
    {
     "data": {
      "text/plain": [
       "<sympy.plotting.plot.Plot at 0x21b75c387f0>"
      ]
     },
     "execution_count": 17,
     "metadata": {},
     "output_type": "execute_result"
    }
   ],
   "source": [
    "plot(f1.diff(x))"
   ]
  },
  {
   "cell_type": "code",
   "execution_count": 18,
   "id": "2e8927f8",
   "metadata": {},
   "outputs": [
    {
     "data": {
      "image/png": "[encoded data removed]",
      "text/plain": [
       "<Figure size 640x480 with 1 Axes>"
      ]
     },
     "metadata": {},
     "output_type": "display_data"
    },
    {
     "data": {
      "text/plain": [
       "<sympy.plotting.plot.Plot at 0x21b75eaa380>"
      ]
     },
     "execution_count": 18,
     "metadata": {},
     "output_type": "execute_result"
    }
   ],
   "source": [
    "plot(f1, ylim=(-5, 5))"
   ]
  },
  {
   "cell_type": "code",
   "execution_count": null,
   "id": "0552f313",
   "metadata": {},
   "outputs": [],
   "source": []
  },
  {
   "cell_type": "code",
   "execution_count": 19,
   "id": "a58911a7",
   "metadata": {},
   "outputs": [
    {
     "data": {
      "text/plain": [
       "[-5/4]"
      ]
     },
     "execution_count": 19,
     "metadata": {},
     "output_type": "execute_result"
    }
   ],
   "source": [
    "sympy.solve(f1.diff(x))"
   ]
  },
  {
   "cell_type": "code",
   "execution_count": 20,
   "id": "ed003860",
   "metadata": {},
   "outputs": [
    {
     "data": {
      "text/latex": [
       "$\\displaystyle 0$"
      ],
      "text/plain": [
       "0"
      ]
     },
     "execution_count": 20,
     "metadata": {},
     "output_type": "execute_result"
    }
   ],
   "source": [
    "f1.diff(x).subs(x, -5/4)"
   ]
  },
  {
   "cell_type": "code",
   "execution_count": 21,
   "id": "bc603d24",
   "metadata": {},
   "outputs": [
    {
     "data": {
      "text/latex": [
       "$\\displaystyle -1.125$"
      ],
      "text/plain": [
       "-1.12500000000000"
      ]
     },
     "execution_count": 21,
     "metadata": {},
     "output_type": "execute_result"
    }
   ],
   "source": [
    "f1.subs(x, -5/4)"
   ]
  },
  {
   "cell_type": "code",
   "execution_count": null,
   "id": "a7f3361f",
   "metadata": {},
   "outputs": [],
   "source": []
  },
  {
   "cell_type": "code",
   "execution_count": null,
   "id": "5d3f72bb",
   "metadata": {},
   "outputs": [],
   "source": []
  },
  {
   "cell_type": "markdown",
   "id": "1238b35f",
   "metadata": {},
   "source": [
    "Дана функция f(x) = 5x^2 + 10x - 30\n",
    "\n",
    "Определить корни\n",
    "\n",
    "Найти интервалы, на которых функция возрастает\n",
    "\n",
    "Найти интервалы, на которых функция убывает\n",
    "\n",
    "Построить график\n",
    "\n",
    "Вычислить вершину\n",
    "\n",
    "Определить промежутки, на котором f > 0\n",
    "\n",
    "Определить промежутки, на котором f < 0"
   ]
  },
  {
   "cell_type": "code",
   "execution_count": null,
   "id": "8c16992b",
   "metadata": {},
   "outputs": [],
   "source": []
  },
  {
   "cell_type": "code",
   "execution_count": 22,
   "id": "b24764fc",
   "metadata": {},
   "outputs": [],
   "source": [
    "x = sympy.Symbol(\"x\")"
   ]
  },
  {
   "cell_type": "code",
   "execution_count": 23,
   "id": "e086feda",
   "metadata": {},
   "outputs": [],
   "source": [
    "f2 = 5*x**2 + 10*x - 30"
   ]
  },
  {
   "cell_type": "code",
   "execution_count": 24,
   "id": "6ec90d40",
   "metadata": {},
   "outputs": [],
   "source": [
    "f2_2 = sympy.solve(f2, x)"
   ]
  },
  {
   "cell_type": "code",
   "execution_count": 25,
   "id": "2f420667",
   "metadata": {},
   "outputs": [
    {
     "name": "stdout",
     "output_type": "stream",
     "text": [
      "[-1 + sqrt(7), -sqrt(7) - 1]\n"
     ]
    }
   ],
   "source": [
    "print(f2_2)"
   ]
  },
  {
   "cell_type": "code",
   "execution_count": 26,
   "id": "b847ad94",
   "metadata": {},
   "outputs": [
    {
     "name": "stdout",
     "output_type": "stream",
     "text": [
      "1.64575131106459\n",
      "-3.64575131106459\n"
     ]
    }
   ],
   "source": [
    "print(f2_2[0].evalf())\n",
    "print(f2_2[1].evalf())"
   ]
  },
  {
   "cell_type": "code",
   "execution_count": null,
   "id": "16c327ac",
   "metadata": {},
   "outputs": [],
   "source": []
  },
  {
   "cell_type": "code",
   "execution_count": 27,
   "id": "c939095a",
   "metadata": {},
   "outputs": [],
   "source": [
    "from sympy.plotting import plot"
   ]
  },
  {
   "cell_type": "code",
   "execution_count": 28,
   "id": "fd459e1e",
   "metadata": {},
   "outputs": [
    {
     "data": {
      "image/png": "[encoded data removed]",
      "text/plain": [
       "<Figure size 640x480 with 1 Axes>"
      ]
     },
     "metadata": {},
     "output_type": "display_data"
    },
    {
     "data": {
      "text/plain": [
       "<sympy.plotting.plot.Plot at 0x21b6b5c9960>"
      ]
     },
     "execution_count": 28,
     "metadata": {},
     "output_type": "execute_result"
    }
   ],
   "source": [
    "plot(f2, ylim=(-36, 36))"
   ]
  },
  {
   "cell_type": "code",
   "execution_count": null,
   "id": "632709af",
   "metadata": {},
   "outputs": [],
   "source": []
  },
  {
   "cell_type": "code",
   "execution_count": 29,
   "id": "e1401043",
   "metadata": {},
   "outputs": [
    {
     "data": {
      "image/png": "[encoded data removed]",
      "text/plain": [
       "<Figure size 640x480 with 1 Axes>"
      ]
     },
     "metadata": {},
     "output_type": "display_data"
    },
    {
     "data": {
      "text/plain": [
       "<sympy.plotting.plot.Plot at 0x21b76392d40>"
      ]
     },
     "execution_count": 29,
     "metadata": {},
     "output_type": "execute_result"
    }
   ],
   "source": [
    "plot(f2.diff(x))"
   ]
  },
  {
   "cell_type": "code",
   "execution_count": 30,
   "id": "dab1d462",
   "metadata": {},
   "outputs": [],
   "source": [
    "f2_3 = f2.diff(x)"
   ]
  },
  {
   "cell_type": "code",
   "execution_count": 31,
   "id": "1e0c2e7a",
   "metadata": {},
   "outputs": [
    {
     "data": {
      "text/plain": [
       "[-1]"
      ]
     },
     "execution_count": 31,
     "metadata": {},
     "output_type": "execute_result"
    }
   ],
   "source": [
    "sympy.solve(f2_3, x)"
   ]
  },
  {
   "cell_type": "code",
   "execution_count": null,
   "id": "15e10282",
   "metadata": {},
   "outputs": [],
   "source": []
  },
  {
   "cell_type": "code",
   "execution_count": 32,
   "id": "8aeadfba",
   "metadata": {},
   "outputs": [
    {
     "data": {
      "text/latex": [
       "$\\displaystyle -35$"
      ],
      "text/plain": [
       "-35"
      ]
     },
     "execution_count": 32,
     "metadata": {},
     "output_type": "execute_result"
    }
   ],
   "source": [
    "f2.subs(x, -1)"
   ]
  },
  {
   "cell_type": "code",
   "execution_count": null,
   "id": "2d034c51",
   "metadata": {},
   "outputs": [],
   "source": []
  }
 ],
 "metadata": {
  "kernelspec": {
   "display_name": "Python 3 (ipykernel)",
   "language": "python",
   "name": "python3"
  },
  "language_info": {
   "codemirror_mode": {
    "name": "ipython",
    "version": 3
   },
   "file_extension": ".py",
   "mimetype": "text/x-python",
   "name": "python",
   "nbconvert_exporter": "python",
   "pygments_lexer": "ipython3",
   "version": "3.10.7"
  },
  "vscode": {
   "interpreter": {
    "hash": "fe4640e778977b7591c91033b7735dd1f77833d79ff8bb41ed9586ec3f8792d5"
   }
  }
 },
 "nbformat": 4,
 "nbformat_minor": 5
}
